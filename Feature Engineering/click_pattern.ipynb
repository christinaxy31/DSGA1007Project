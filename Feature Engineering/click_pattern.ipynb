{
 "cells": [
  {
   "cell_type": "code",
   "execution_count": 2,
   "metadata": {},
   "outputs": [
    {
     "name": "stderr",
     "output_type": "stream",
     "text": [
      "c:\\Users\\maria\\anaconda3\\lib\\site-packages\\scipy\\__init__.py:146: UserWarning: A NumPy version >=1.16.5 and <1.23.0 is required for this version of SciPy (detected version 1.26.2\n",
      "  warnings.warn(f\"A NumPy version >={np_minversion} and <{np_maxversion}\"\n"
     ]
    }
   ],
   "source": [
    "import pandas as pd\n",
    "import numpy as np\n",
    "import matplotlib.pyplot as plt\n",
    "from sklearn.cluster import DBSCAN"
   ]
  },
  {
   "cell_type": "code",
   "execution_count": null,
   "metadata": {},
   "outputs": [],
   "source": [
    "df = pd.read_csv(\"csv\\\\train_data.csv\")\n",
    "df_test = pd.read_csv(\"csv\\\\test_data.csv\")"
   ]
  },
  {
   "cell_type": "code",
   "execution_count": null,
   "metadata": {},
   "outputs": [],
   "source": [
    "# Visualize click positions of train data\n",
    "plt.figure(figsize=(10, 6))\n",
    "plt.scatter(df['screen_coor_x'], df['screen_coor_y'])\n",
    "plt.title('Click Positions')\n",
    "plt.xlabel('X Coordinate')\n",
    "plt.ylabel('Y Coordinate')\n",
    "plt.show()"
   ]
  },
  {
   "cell_type": "code",
   "execution_count": null,
   "metadata": {},
   "outputs": [],
   "source": [
    "# Separate by level group\n",
    "df_0_4 = df[df[\"level_group\"] == '0-4']\n",
    "df_5_12 = df[df[\"level_group\"] == '5-12']\n",
    "df_13_22 = df[df[\"level_group\"] == '13-22']"
   ]
  },
  {
   "cell_type": "code",
   "execution_count": null,
   "metadata": {},
   "outputs": [],
   "source": [
    "# Conduct DBSCAN for each level group\n",
    "df_0_4 = df_0_4.dropna(subset=['screen_coor_x', 'screen_coor_y'])\n",
    "dbscan = DBSCAN(eps=0.5, min_samples=5)\n",
    "df_0_4['cluster'] = dbscan.fit_predict(df_0_4[['screen_coor_x', 'screen_coor_y']])\n",
    "df_0_4['common_area_cluster'] = df_0_4['cluster'].apply(lambda x: 1 if x != -1 else 0)\n",
    "percentage_0_4 = df_0_4.groupby('session_id')['common_area_cluster'].apply(\n",
    "    lambda x: (x == 1).sum() / len(x)\n",
    ").reset_index(name='fraction_of_common_click')\n",
    "percentage_0_4.to_csv('feature_train_click_0-4.csv', index = False)"
   ]
  },
  {
   "cell_type": "code",
   "execution_count": null,
   "metadata": {},
   "outputs": [],
   "source": [
    "df_5_12 = df_5_12.dropna(subset=['screen_coor_x', 'screen_coor_y'])\n",
    "dbscan = DBSCAN(eps=0.5, min_samples=5)\n",
    "df_5_12['cluster'] = dbscan.fit_predict(df_5_12[['screen_coor_x', 'screen_coor_y']])\n",
    "df_5_12['common_area_cluster'] = df_5_12['cluster'].apply(lambda x: 1 if x != -1 else 0)\n",
    "percentage_5_12 = df_5_12.groupby('session_id')['common_area_cluster'].apply(\n",
    "    lambda x: (x == 1).sum() / len(x)\n",
    ").reset_index(name='fraction_of_common_click')\n",
    "percentage_5_12.to_csv('feature_train_click_5-12.csv', index = False)"
   ]
  },
  {
   "cell_type": "code",
   "execution_count": null,
   "metadata": {},
   "outputs": [],
   "source": [
    "df_13_22 = df_13_22.dropna(subset=['screen_coor_x', 'screen_coor_y'])\n",
    "dbscan = DBSCAN(eps=0.5, min_samples=5)\n",
    "df_13_22['cluster'] = dbscan.fit_predict(df_13_22[['screen_coor_x', 'screen_coor_y']])\n",
    "df_13_22['common_area_cluster'] = df_13_22['cluster'].apply(lambda x: 1 if x != -1 else 0)\n",
    "percentage_13_22 = df_13_22.groupby('session_id')['common_area_cluster'].apply(\n",
    "    lambda x: (x == 1).sum() / len(x)\n",
    ").reset_index(name='fraction_of_common_click')\n",
    "percentage_13_22.to_csv('feature_train_click_13-22.csv', index = False)"
   ]
  },
  {
   "cell_type": "code",
   "execution_count": null,
   "metadata": {},
   "outputs": [],
   "source": [
    "df_test_0_4 = df_test[df_test[\"level_group\"] == '0-4']\n",
    "df_test_5_12 = df_test[df_test[\"level_group\"] == '5-12']\n",
    "df_test_13_22 = df_test[df_test[\"level_group\"] == '13-22']"
   ]
  },
  {
   "cell_type": "code",
   "execution_count": null,
   "metadata": {},
   "outputs": [],
   "source": [
    "df_test_0_4 = df_test_0_4.dropna(subset=['screen_coor_x', 'screen_coor_y'])\n",
    "dbscan = DBSCAN(eps=0.5, min_samples=5)\n",
    "df_test_0_4['cluster'] = dbscan.fit_predict(df_test_0_4[['screen_coor_x', 'screen_coor_y']])\n",
    "df_test_0_4['common_area_cluster'] = df_test_0_4['cluster'].apply(lambda x: 1 if x != -1 else 0)\n",
    "percentage_test_0_4 = df_test_0_4.groupby('session_id')['common_area_cluster'].apply(\n",
    "    lambda x: (x == 1).sum() / len(x)\n",
    ").reset_index(name='fraction_of_common_click')\n",
    "percentage_test_0_4.to_csv('feature_test_click_0-4.csv', index = False)"
   ]
  },
  {
   "cell_type": "code",
   "execution_count": null,
   "metadata": {},
   "outputs": [],
   "source": [
    "df_test_5_12 = df_test_5_12.dropna(subset=['screen_coor_x', 'screen_coor_y'])\n",
    "dbscan = DBSCAN(eps=0.5, min_samples=5)\n",
    "df_test_5_12['cluster'] = dbscan.fit_predict(df_test_5_12[['screen_coor_x', 'screen_coor_y']])\n",
    "df_test_5_12['common_area_cluster'] = df_test_5_12['cluster'].apply(lambda x: 1 if x != -1 else 0)\n",
    "percentage_test_5_12 = df_test_5_12.groupby('session_id')['common_area_cluster'].apply(\n",
    "    lambda x: (x == 1).sum() / len(x)\n",
    ").reset_index(name='fraction_of_common_click')\n",
    "percentage_test_5_12.to_csv('feature_test_click_5-12.csv', index = False)"
   ]
  },
  {
   "cell_type": "code",
   "execution_count": null,
   "metadata": {},
   "outputs": [],
   "source": [
    "df_test_13_22 = df_test_13_22.dropna(subset=['screen_coor_x', 'screen_coor_y'])\n",
    "dbscan = DBSCAN(eps=0.5, min_samples=5)\n",
    "df_test_13_22['cluster'] = dbscan.fit_predict(df_test_13_22[['screen_coor_x', 'screen_coor_y']])\n",
    "df_test_13_22['common_area_cluster'] = df_test_13_22['cluster'].apply(lambda x: 1 if x != -1 else 0)\n",
    "percentage_test_13_22 = df_test_13_22.groupby('session_id')['common_area_cluster'].apply(\n",
    "    lambda x: (x == 1).sum() / len(x)\n",
    ").reset_index(name='fraction_of_common_click')\n",
    "percentage_test_13_22.to_csv('feature_test_click_13-22.csv', index = False)"
   ]
  }
 ],
 "metadata": {
  "kernelspec": {
   "display_name": "base",
   "language": "python",
   "name": "python3"
  },
  "language_info": {
   "codemirror_mode": {
    "name": "ipython",
    "version": 3
   },
   "file_extension": ".py",
   "mimetype": "text/x-python",
   "name": "python",
   "nbconvert_exporter": "python",
   "pygments_lexer": "ipython3",
   "version": "3.9.12"
  }
 },
 "nbformat": 4,
 "nbformat_minor": 2
}
